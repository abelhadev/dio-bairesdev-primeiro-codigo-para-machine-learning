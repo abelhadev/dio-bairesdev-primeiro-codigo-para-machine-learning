{
 "cells": [
  {
   "cell_type": "code",
   "execution_count": 5,
   "metadata": {},
   "outputs": [],
   "source": [
    "import numpy as np\n",
    "import torch #framework\n",
    "import torch.nn.functional as F\n",
    "import matplotlib.pyplot as plt\n",
    "from time import time \n",
    "from torchvision import datasets, transforms\n",
    "from torch import nn, optim"
   ]
  },
  {
   "cell_type": "code",
   "execution_count": 12,
   "metadata": {},
   "outputs": [
    {
     "name": "stdout",
     "output_type": "stream",
     "text": [
      "Downloading data from https://storage.googleapis.com/tensorflow/tf-keras-datasets/mnist.npz\n",
      "\u001b[1m11490434/11490434\u001b[0m \u001b[32m━━━━━━━━━━━━━━━━━━━━\u001b[0m\u001b[37m\u001b[0m \u001b[1m2s\u001b[0m 0us/step\n"
     ]
    }
   ],
   "source": [
    "from keras.datasets import mnist\n",
    "(train_X, train_y), (test_X, test_y) = mnist.load_data()\n",
    "\n",
    "\n"
   ]
  },
  {
   "cell_type": "code",
   "execution_count": null,
   "metadata": {},
   "outputs": [],
   "source": [
    "import torch.utils.data.dataloader\n",
    "\n",
    "transform= transforms.ToTensor() #definindo conversão de imagens para tensor\n",
    "trainset = datasets.MNIST('./MNIST_data', download = True, train=True, transform= transform)  #carrega a parte de treino do dataset\n",
    "trainloader = torch.utils.data.DataLoader(trainset, batch_size=64, shuffle=True) # Cria um buffer para pegar os dados por partes\n",
    "\n",
    "valset = datasets.MNIST('./MNIST_data', download=True, train=False, transform=transform) #carrega a parte de validação\n",
    "valloader = torch.utils.data.DataLoader(valset, batch_size=64, shuffle=True) # Cria um buffer para pegar os dados por partes\n",
    "\n",
    "\n",
    "#https://yann.lecun.com/exdb/mnist/\n"
   ]
  },
  {
   "cell_type": "code",
   "execution_count": 8,
   "metadata": {},
   "outputs": [
    {
     "data": {
      "text/plain": [
       "<matplotlib.image.AxesImage at 0x2238c0ef0e0>"
      ]
     },
     "execution_count": 8,
     "metadata": {},
     "output_type": "execute_result"
    },
    {
     "data": {
      "image/png": "[encoded data removed]",
      "text/plain": [
       "<Figure size 640x480 with 1 Axes>"
      ]
     },
     "metadata": {},
     "output_type": "display_data"
    }
   ],
   "source": [
    "dataiter = iter(trainloader)\n",
    "imagens, etiquetas = next(dataiter)\n",
    "plt.imshow(imagens[0].numpy().squeeze(), cmap='gray_r')"
   ]
  },
  {
   "cell_type": "code",
   "execution_count": 9,
   "metadata": {},
   "outputs": [
    {
     "name": "stdout",
     "output_type": "stream",
     "text": [
      "torch.Size([1, 28, 28])\n",
      "torch.Size([])\n"
     ]
    }
   ],
   "source": [
    "print(imagens[0].shape) #para verificar as dimensões do tensor de cada imagem\n",
    "print(etiquetas[0].shape) #para verificar as dimensões do tensor de cada etiqueta"
   ]
  },
  {
   "cell_type": "code",
   "execution_count": 10,
   "metadata": {},
   "outputs": [],
   "source": [
    "# https://keras.io/api/applications/#usage-examples-for-image-classification-models\n",
    "#https://github.com/keras-team/keras/blob/v3.7.0/keras/src/applications/inception_v3.py#L19\n",
    "\n",
    "#Estruturação da rede\n",
    "\n",
    "class Modelo(nn.Module):\n",
    "    def __init__(self):\n",
    "        super(Modelo, self).__init__()\n",
    "        self.linear1 = nn.Linear(28*28, 128) #camada de entrada, 784 neurônios se ligam a 128\n",
    "        self.linear2 = nn.Linear (128, 64) # camada interna 1, 128 neurônios se ligam a 64\n",
    "        self.Linear3 = nn.Linear(64,10) #camada interna 2, 64 neurônios se ligam a 10\n",
    "        #para a cama de saída não é necessário definir nada pois só precisamos pegar o output da camada 2\n",
    "\n",
    "    def foward(self,X):\n",
    "        X= F.relu(self.linear1(X)) #função de ativação camada de entrada para camada interna 1\n",
    "        X= F.relu(self.linear2(X)) #função de ativação da camada interna 1 para a camada interna 2\n",
    "        X = self.Linear3(X) #função de ativação da camada 2 para a camada de saída, nesse caso f(x) = x\n",
    "        return F.log_softmax(X, dim=1) #dados utilizados para calcular a perda "
   ]
  },
  {
   "cell_type": "code",
   "execution_count": 12,
   "metadata": {},
   "outputs": [],
   "source": [
    "#Otimizador da rede\n",
    "\n",
    "def treino(modelo, trainloader, device):\n",
    "    otimizador = optim.SGD(modelo.parameters(), lr=0, momentum=0.5) #define a política de atualização dos pesos e da bias\n",
    "    inicio = time()\n",
    "\n",
    "    criterio = nn.NLLLoss() #definindo o critério para calcular a perda \n",
    "    EPOCHS = 10 #número de epoch que o algoritmo rodará\n",
    "    modelo.train() \n",
    "\n",
    "    for epoch in range (EPOCHS):\n",
    "        perda_acumulada = 0\n",
    "\n",
    "        for imagens, etiquetas in trainloader:\n",
    "            imagens= imagens.view(imagens.shape[0], -1) #convertendo as imagens de \"vetores\" de 28*28 casas para \n",
    "            otimizador.zero_grad() #zerando os gradientes por conta do ciclo anterior\n",
    "\n",
    "            output = modelo(imagens.to(device)) #colocando os dados no modelo \n",
    "            perda_instantanea= criterio(output, etiquetas.to(device)) #calculando a perda da epochem questão\n",
    "\n",
    "            perda_instantanea.backward()  #back propagation a partir de agora\n",
    "\n",
    "            otimizador.step() # atualizando os pesos e as bias \n",
    "\n",
    "            perda_acumulada += perda_instantanea.item() #Atualização da perda acumulada\n",
    "\n",
    "\n",
    "        else: print(\"EPOCH {}- Perda resultante: {}\".format(epoch+1, perda_acumulada/len(trainloader)))\n",
    "        print(\"\\n Tempo de treino (em minutos)\", time()-inicio/60)"
   ]
  },
  {
   "cell_type": "code",
   "execution_count": 13,
   "metadata": {},
   "outputs": [],
   "source": [
    "def validacao(modelo, valloader, device):\n",
    "    conta_corretas, conta_todas = 0, 0\n",
    "    for imagens, etiquetas in valloader:\n",
    "        for i in range (len(etiquetas)):\n",
    "            img = imagens[i].view(1,784)\n",
    "            with torch.no_grad:\n",
    "                logps = modelo(img.to(device))\n",
    "\n",
    "            ps = torch.exp(logps)\n",
    "            probab = list(ps.cpu().numpy()[0])\n",
    "            etiqueta_pred = probab.index(max(probab))\n",
    "            etiqueta_certa= etiquetas.numpy()[i]\n",
    "            if(etiqueta_certa == etiqueta_pred):\n",
    "                conta_corretas +=1 \n",
    "                conta_todas +=1 \n",
    "\n",
    "    print(\"Total de imagens testadas=\", conta_todas)\n",
    "    print(\"\\n Precisão do modelo = {}%\".format(conta_corretas*100/conta_todas))"
   ]
  },
  {
   "cell_type": "code",
   "execution_count": 14,
   "metadata": {},
   "outputs": [
    {
     "data": {
      "text/plain": [
       "Modelo(\n",
       "  (linear1): Linear(in_features=784, out_features=128, bias=True)\n",
       "  (linear2): Linear(in_features=128, out_features=64, bias=True)\n",
       "  (Linear3): Linear(in_features=64, out_features=10, bias=True)\n",
       ")"
      ]
     },
     "execution_count": 14,
     "metadata": {},
     "output_type": "execute_result"
    }
   ],
   "source": [
    "modelo = Modelo()\n",
    "\n",
    "device = torch.device(\"cuda\"if torch.cuda.is_available() else \"cpu\")\n",
    "modelo.to(device)"
   ]
  },
  {
   "cell_type": "code",
   "execution_count": null,
   "metadata": {},
   "outputs": [],
   "source": []
  }
 ],
 "metadata": {
  "kernelspec": {
   "display_name": "Python 3",
   "language": "python",
   "name": "python3"
  },
  "language_info": {
   "codemirror_mode": {
    "name": "ipython",
    "version": 3
   },
   "file_extension": ".py",
   "mimetype": "text/x-python",
   "name": "python",
   "nbconvert_exporter": "python",
   "pygments_lexer": "ipython3",
   "version": "3.12.6"
  }
 },
 "nbformat": 4,
 "nbformat_minor": 2
}
